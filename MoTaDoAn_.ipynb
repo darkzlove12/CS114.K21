{
  "nbformat": 4,
  "nbformat_minor": 0,
  "metadata": {
    "colab": {
      "name": "MoTaDoAn .ipynb",
      "provenance": [],
      "collapsed_sections": [],
      "authorship_tag": "ABX9TyO9786CuQLp9RI1hKa+2ZJY",
      "include_colab_link": true
    },
    "kernelspec": {
      "name": "python3",
      "display_name": "Python 3"
    }
  },
  "cells": [
    {
      "cell_type": "markdown",
      "metadata": {
        "id": "view-in-github",
        "colab_type": "text"
      },
      "source": [
        "<a href=\"https://colab.research.google.com/github/darkzlove12/CS114.K21/blob/master/MoTaDoAn_.ipynb\" target=\"_parent\"><img src=\"https://colab.research.google.com/assets/colab-badge.svg\" alt=\"Open In Colab\"/></a>"
      ]
    },
    {
      "cell_type": "markdown",
      "metadata": {
        "id": "QgYAAHkBZCbC",
        "colab_type": "text"
      },
      "source": [
        ""
      ]
    },
    {
      "cell_type": "markdown",
      "metadata": {
        "id": "jMJxpke33fbO",
        "colab_type": "text"
      },
      "source": [
        "ĐẠI HỌC QUỐC GIA TP. HCM\n",
        "<br>TRƯỜNG ĐH CÔNG NGHỆ THÔNG TIN\n",
        "<br>LỚP: CS114.K21\n",
        "\n",
        "---\n",
        "## **ĐỒ ÁN MÔN HỌC**\n",
        "\n",
        "##**FACE RECOGNITION - NHẬN DIỆN KHUÔN MẶT**\n",
        "\n",
        "**Thành viên:**\n",
        "*   Hồ Đặng Thanh Hồ – 18520760\n",
        "*   Lê Hà Minh Trung – 18520390\n",
        "*   Đoàn Ngọc Tài – 16521045\n",
        "\n",
        "**MỤC ĐÍCH**\n",
        "\n",
        "Công nghệ thông tin ngày càng phát triển và có vai trò hết sức quan trọng không thể thiếu trong cuộc sống hiện đại. Con người ngày càng tạo ra những cỗ máy thông minh có khả năng tự nhận biết và xử lí được các công việc một cách tự động, phục vụ cho lợi ích của con người. Trong những năm gần đây các khu vực như Thư viện, văn phòng dẫn trở thành những không gian mở có nhiều người tới, vì vậy an ninh là một phần quan trọng ở những địa điểm như vầy. Việc nhận diện được danh tính của những người đến những nơi này là vô cùng quan trọng, vì vậy nhóm em chọn đề tài nhận diện khuôn mặt để tìm hiểu thêm về cách thức hoạt động của như điểm mạnh yếu của mô hình này.\n",
        "\n",
        "**GIỚI THIỆU ĐỀ TÀI:**\n",
        "\n",
        "Hệ thống nhận dạng khuôn mặt người là một hệ thống nhận vào là một ảnh hoặc một đoạn video (một chuỗi các ảnh). Qua xử lý tính toán hệ thống xác định được vị trí mặt người trong ảnh (nếu có) và xác định là người nào trong số những người hệ thống đã được biết (qua quá trình học) hoặc là người lạ.\n",
        "Đây là bài toán Regression giúp phát hiện và nhận diện khuôn mặt, cho một ảnh khuôn mặt chính diện (không quá nghiêng) và dự đoán danh tính của khuôn mặt đó..... Chỉnh lại\n",
        "*   Input: là hình ảnh chứa khuôn mặt của một hoặc nhiều người\n",
        "*   Output: Ví trị phát hiện khuôn mặt và  thông tin của khuôn mặt đó\n",
        "\n",
        "**MÔ TẢ DỮ LIỆU và feature engineering:**   \n",
        "*  Cách thức thu thập: quay video khuôn mặt của một số sinh viên ở trong trường UIT.\n",
        "*  Số lượng: hơn 1000 ảnh, trong đó mỗi người sẽ có 100 ảnh với nhiều gốc khác nhau, có nhiều ảnh bị mờ và chói sáng(khó khăn).\n",
        "* Feature engineering: đưa vào một đoạn video có chứa mặt của một người sau đó dùng MTCNN để phát hiện khuôn mặt là cắt lấy khuôn mặt đó, tiếp tục dùng facenet để lấy những đặc trưng có trong khuôn mặt và lưu vào file features.csv với 512 vector cho một khuôn mặt phát hiện ra trong 1 khung hình cắt được\n",
        "* Chia data ra làm 2 tập 1 tập train khoảng 70% và 1 tập test khoảng 30%, dự định sẽ sử dụng SVM VÀ Logictic regression để kiểm tra kết quả\n",
        "\n",
        "**MÔ TẢ VỀ THUẬT TOÁN MÁY HỌC:**\n",
        "<br>Sử dụng một số thuật toán máy học để dự đoán kết quả như:\n",
        "* SVM\n",
        "* Logistic regression\n",
        "\n",
        "\n",
        "Đánh giá kết quả thông qua một vài độ đo như accurancy, f1 score, loss..., so sánh kết quả đầu ra của các thuật toán\n",
        "\n",
        "\n",
        "\n",
        "\n",
        " \n",
        "\n"
      ]
    }
  ]
}